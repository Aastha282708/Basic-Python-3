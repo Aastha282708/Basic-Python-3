{
 "cells": [
  {
   "cell_type": "code",
   "execution_count": 3,
   "metadata": {
    "collapsed": false
   },
   "outputs": [
    {
     "name": "stdout",
     "output_type": "stream",
     "text": [
      "j\n",
      "r\n"
     ]
    }
   ],
   "source": [
    "# Accessing Characters by Positive Index Number\n",
    "ss = \"Srijav Shark!\"\n",
    "print(ss[3]) #count index from left side\n",
    "# Accessing Characters by Negative Index Number\n",
    "print(ss[-3])#count index from right side\n",
    "\n",
    "#counting index always starts from 0 in python so the 3 in side a square actually take a 4th palce i.e 'j'"
   ]
  },
  {
   "cell_type": "markdown",
   "metadata": {},
   "source": [
    "# SLICING an string\n",
    "\n",
    "slicing a string uses a square braks '[ ]', without quote.\n",
    "\n",
    "It contains three sections.\n",
    "\n",
    "[start:End:stride]\n",
    "\n",
    "In the following example we will carry out each posibilites using this structure"
   ]
  },
  {
   "cell_type": "code",
   "execution_count": 7,
   "metadata": {
    "collapsed": false
   },
   "outputs": [
    {
     "name": "stdout",
     "output_type": "stream",
     "text": [
      "ove Python\n",
      "I l\n",
      "love \n",
      "lv \n"
     ]
    }
   ],
   "source": [
    "# lets take a string\n",
    "s = 'I love Python'\n",
    "\n",
    "#taking only a first part of structure\n",
    "\n",
    "print(s[3:]) # start = 3, end = nothing, and stride is not a part of operation. by default stride will be 1\n",
    "\n",
    "print(s[:3])\n",
    "\n",
    "print(s[2:7])\n",
    "\n",
    "print(s[2:7:2]) #start = 2, end = 7 and stride = 2 (stepping/skiping)"
   ]
  },
  {
   "cell_type": "raw",
   "metadata": {},
   "source": [
    "Additionally, you can indicate a negative numeric value for the stride, which we can use to print the original string in reverse order if we set the stride to -1:?"
   ]
  },
  {
   "cell_type": "code",
   "execution_count": 11,
   "metadata": {
    "collapsed": false
   },
   "outputs": [
    {
     "name": "stdout",
     "output_type": "stream",
     "text": [
      "nohtyP evol I\n",
      "nhy vlI\n"
     ]
    }
   ],
   "source": [
    "print(s[::-1])\n",
    "print(s[::-2])"
   ]
  },
  {
   "cell_type": "raw",
   "metadata": {},
   "source": [
    "Counting Methods\n",
    "\n",
    "1. len()\n",
    "2. count()\n",
    "3. find()"
   ]
  },
  {
   "cell_type": "code",
   "execution_count": 26,
   "metadata": {
    "collapsed": false
   },
   "outputs": [
    {
     "name": "stdout",
     "output_type": "stream",
     "text": [
      "13\n",
      "2\n",
      "0\n",
      "-1\n",
      "11\n",
      "3\n"
     ]
    }
   ],
   "source": [
    "print(len(s))\n",
    "\n",
    "print(s.count('o')) #returns the number of particular character ('o' in this example) which founds fisrt\n",
    "\n",
    "\n",
    "print(s.find('I')) # returns the index of the character in string which found first\n",
    "\n",
    "print(s.find('x')) # returns -1 if no character found in string\n",
    "\n",
    "print(s.find('o', 5)) #returns the index of character after a specified index. Here look for character 'o' after index 5\n",
    "\n",
    "print(s.find('o', 2, -4)) # returns the index of a character which comes first between the range (2, -1) index."
   ]
  },
  {
   "cell_type": "raw",
   "metadata": {},
   "source": [
    "The string methods of len(), str.count(), and str.find() can be used to determine length, counts of characters or character sequences, and index positions of characters or character sequences within strings."
   ]
  },
  {
   "cell_type": "markdown",
   "metadata": {},
   "source": [
    "# String Formatters in Python 3\n",
    "\n",
    "Python’s str.format() method of the string class allows you to do variable substitutions and value formatting. This lets you concatenate elements together within a string through positional formatting."
   ]
  },
  {
   "cell_type": "markdown",
   "metadata": {},
   "source": [
    "# Using Formatters\n",
    "# Formatters work by putting in one or more replacement fields or placeholders — defined by a pair of curly braces {} — into a string and calling the str.format() method"
   ]
  },
  {
   "cell_type": "code",
   "execution_count": 28,
   "metadata": {
    "collapsed": false
   },
   "outputs": [
    {
     "name": "stdout",
     "output_type": "stream",
     "text": [
      "John has 5 balloons.\n",
      "John loves open source.\n"
     ]
    }
   ],
   "source": [
    "\n",
    "# Let’s print out a string that uses a formatter:\n",
    "\n",
    "print(\"John has {} balloons.\".format(5)) #here the curly bracks act as a place holders\n",
    "\n",
    "# We can also assign a variable to be equal to the value of a string that has formatter placeholders:\n",
    "\n",
    "open_string = \"John loves {}.\"\n",
    "print(open_string.format(\"open source\"))"
   ]
  },
  {
   "cell_type": "markdown",
   "metadata": {},
   "source": [
    "# Using Formatters with Multiple Placeholders\n",
    "You can use multiple pairs of curly braces when using formatters. If we’d like to add another variable substitution to the sentence above, we can do so by adding a second pair of curly braces and passing a second value into the method:"
   ]
  },
  {
   "cell_type": "code",
   "execution_count": 32,
   "metadata": {
    "collapsed": false
   },
   "outputs": [
    {
     "name": "stdout",
     "output_type": "stream",
     "text": [
      "John loves open-source software.\n",
      "John loves open-source software, and has 5 balloons.\n"
     ]
    }
   ],
   "source": [
    "new_open_string = \"John loves {} {}.\"                      #2 {} placeholders\n",
    "print(new_open_string.format(\"open-source\", \"software\"))    #Pass 2 strings into method, separated by a comma\n",
    "\n",
    "john_string = \"John loves {} {}, and has {} {}.\"                      #4 {} placeholders\n",
    "print(john_string.format(\"open-source\", \"software\", 5, \"balloons\"))    #Pass 4 strings into method"
   ]
  },
  {
   "cell_type": "markdown",
   "metadata": {},
   "source": [
    "# Reordering Formatters with Positional and Keyword Arguments\n",
    "When we leave curly braces empty without any parameters, Python will replace the values passed through the str.format() method in order. As we have seen, so far, a formatter construction with two empty curly braces with two values passed through will look like this:\n",
    "\n",
    "print(\"John the {} has a pet {}!\".format(\"shark\", \"pilot fish\"))\n",
    "\n",
    "Output\n",
    "Sammy the shark has a pet pilot fish!"
   ]
  },
  {
   "cell_type": "code",
   "execution_count": 33,
   "metadata": {
    "collapsed": false
   },
   "outputs": [
    {
     "name": "stdout",
     "output_type": "stream",
     "text": [
      "John the shark has a pet pilot fish!\n",
      "John the pilot fish has a pet shark!\n"
     ]
    }
   ],
   "source": [
    "# We can pass these index numbers into the curly braces that serve as the placeholders in the original string:\n",
    "\n",
    "print(\"John the {0} has a pet {1}!\".format(\"shark\", \"pilot fish\"))\n",
    "\n",
    "print(\"John the {1} has a pet {0}!\".format(\"shark\", \"pilot fish\"))"
   ]
  },
  {
   "cell_type": "markdown",
   "metadata": {},
   "source": [
    "# f you call an index number of 2 in a tuple that has values at index positions 0 and 1, then you are calling on a value that is out of range. When you call an index number that is out of range, you’ll receive an error message:\n",
    "\n",
    "print(\"Sammy the {2} has a pet {1}!\".format(\"shark\", \"pilot fish\"))\n",
    "Output\n",
    "IndexError: tuple index out of range"
   ]
  },
  {
   "cell_type": "markdown",
   "metadata": {},
   "source": [
    "# Specifying Type\n",
    "\n",
    "Let’s look at an example where we have an integer passed through the method, but want to display it as a float by adding the f conversion type argument:\n",
    "\n",
    "print(\"John ate {0:f} percent of a {1}!\".format(75, \"pizza\"))\n",
    "\n",
    "\n",
    "Output\n",
    "\n",
    "John ate 75.000000 percent of a pizza!\n",
    "\n",
    "We used the syntax of {field_name:conversion} for the first curly brace replacement field to output a float. The second curly braces only uses the first parameter {field_name}.\n",
    "\n",
    "If we just want one decimal place, we can rewrite the string and method like so:\n",
    "\n",
    "print(\"John ate {0:.1f} percent of a pizza!\".format(75.765367))\n",
    "\n",
    "\n",
    "Output\n",
    "\n",
    "John ate 75.8 percent of a pizza!"
   ]
  },
  {
   "cell_type": "markdown",
   "metadata": {},
   "source": [
    "# Padding Variable Substitutions\n",
    "\n",
    "Because the placeholders are replacement fields, you can pad or create space around an element by increasing field size through additional parameters. This can be useful when we need to organize a lot of data visually."
   ]
  },
  {
   "cell_type": "code",
   "execution_count": null,
   "metadata": {
    "collapsed": true
   },
   "outputs": [],
   "source": [
    "# We can add a number to indicate field size (in terms of characters) after the colon : in the curly braces of our syntax:\n",
    "\n",
    "print(\"Sammy has {0:4} red {1:16}!\".format(5, \"balloons\"))\n",
    "\n",
    "# In the example above, we gave the number 5 a character field size of 4, and the string balloons a character field size of 16 (because it is a long string).\n",
    "\n",
    "# Let’s left-align the number and center the string:\n",
    "\n",
    "print(\"Sammy has {0:<4} red {1:^16}!\".format(5, \"balloons\"))\n",
    "\n",
    "#more example:\n",
    "#generate long string replacing whitespace with any chatacter\n",
    "\n",
    "print(\"{:*^20s}\".format(\"Sammy\"))\n",
    "\n",
    "\n",
    "# We can combine these parameters with other parameters we’ve used before:\n",
    "\n",
    "print(\"Sammy ate {0:5.0f} percent of a pizza!\".format(75.765367))"
   ]
  }
 ],
 "metadata": {
  "kernelspec": {
   "display_name": "Python 3",
   "language": "python",
   "name": "python3"
  },
  "language_info": {
   "codemirror_mode": {
    "name": "ipython",
    "version": 3
   },
   "file_extension": ".py",
   "mimetype": "text/x-python",
   "name": "python",
   "nbconvert_exporter": "python",
   "pygments_lexer": "ipython3",
   "version": "3.6.0"
  }
 },
 "nbformat": 4,
 "nbformat_minor": 2
}
