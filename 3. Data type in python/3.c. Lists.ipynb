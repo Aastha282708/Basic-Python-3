{
 "cells": [
  {
   "cell_type": "markdown",
   "metadata": {},
   "source": [
    "List is somewhat like array in other language.\n",
    "\n",
    "# Python List vs Other Language Array\n",
    "\n",
    "Similarity:\n",
    "> Both are collection of datatype\n",
    "\n",
    "Dissimilary:\n",
    "> Array is a collection of similar datatype whereas list is a collection of different data types."
   ]
  },
  {
   "cell_type": "markdown",
   "metadata": {},
   "source": [
    "# list declarations\n",
    " \n",
    "    There are two ways to declare list data structure. They are:\n",
    "        a. literal\n",
    "        b. method\n",
    "        \n",
    "    Below example helps us to understand more about a list data structure"
   ]
  },
  {
   "cell_type": "code",
   "execution_count": 2,
   "metadata": {
    "collapsed": false
   },
   "outputs": [
    {
     "name": "stdout",
     "output_type": "stream",
     "text": [
      "[1, 2, 3, 4]\n",
      "[1, 2, 3, 4]\n",
      "<class 'list'>\n",
      "<class 'list'>\n"
     ]
    }
   ],
   "source": [
    "#literal list definition\n",
    "\n",
    "literal_list = [1,2,3,4] #square bracket is used for defining a list\n",
    "\n",
    "#list definition. \n",
    "\n",
    "method_list = list([1,2,3,4])\n",
    "\n",
    "print(literal_list)\n",
    "\n",
    "print(method_list)\n",
    "\n",
    "#lets inspect variables\n",
    "\n",
    "print(type(literal_list))\n",
    "\n",
    "print(type(method_list))"
   ]
  },
  {
   "cell_type": "markdown",
   "metadata": {},
   "source": [
    "# Methods available with lists\n",
    "\n",
    "# 1. append\n",
    "# 2. clear\n",
    "# 3. copy\n",
    "# 4. count\n",
    "# 5. extend\n",
    "# 6. insert\n",
    "# 7. index\n",
    "# 8. pop\n",
    "# 9. remove\n",
    "# 10. reverse\n",
    "# 11. sort"
   ]
  },
  {
   "cell_type": "code",
   "execution_count": 7,
   "metadata": {
    "collapsed": false
   },
   "outputs": [
    {
     "name": "stdout",
     "output_type": "stream",
     "text": [
      "value before append [1, 2, 3, 4]\n",
      "value after append [1, 2, 3, 4, 7]\n",
      "value before clear [1, 2, 3, 4, 7]\n",
      "value after clear []\n"
     ]
    }
   ],
   "source": [
    "#append; it appends the element at the end of list\n",
    "a = [1,2,3,4]\n",
    "print('value before append {}'.format(a))\n",
    "a.append(7)\n",
    "print('value after append {}'.format(a))\n",
    "\n",
    "\n",
    "#clear; it clear the list\n",
    "print('value before clear {}'.format(a))\n",
    "a.clear()\n",
    "print('value after clear {}'.format(a))\n"
   ]
  },
  {
   "cell_type": "markdown",
   "metadata": {},
   "source": [
    "#copy\n",
    "\n",
    "There are two type of copy in general. They are:\n",
    "    1. sallow copy\n",
    "    2. deep copy\n",
    "    \n",
    "    though this look simple and result same in surface. There is a vast difference between them.\n",
    "    \n",
    "    let me elaborate it.\n",
    "    \n",
    "    a = [1,2,3,4]\n",
    "    \n",
    "    b = a #shallow copy\n",
    "    \n",
    "    here variable 'b' contains [1,2,3,4]\n",
    "    \n",
    "    now, do this:\n",
    "        \n",
    "        a.append(5)\n",
    "        \n",
    "        'a' contains [1,2,3,4,5] now.\n",
    "        \n",
    "        lets check value for 'b'.\n",
    "        \n",
    "        'b' too contains the same results [1,2,3,4,5]. WTF....???\n",
    "        \n",
    "        haha... yeah it is beacause of shallow copy. Remember in python everything is object.\n",
    "        \n",
    "        Instead of copying element from list a to b, it just copy the object itself,\n",
    "        and b simply points to the location of list (or say object) 'a'.\n",
    "        \n",
    "    \n",
    "    c= a.copy() #deep copy\n",
    "    \n",
    "    repeat the above steps and inspect the value for both variables.\n",
    "    a results [1,2,3,4,5]\n",
    "    \n",
    "    c results [1,2,3,4]\n",
    "    \n",
    "     Instead of copying object from list a to c, it copy the element of object,"
   ]
  },
  {
   "cell_type": "code",
   "execution_count": null,
   "metadata": {
    "collapsed": true
   },
   "outputs": [],
   "source": []
  }
 ],
 "metadata": {
  "kernelspec": {
   "display_name": "Python 3",
   "language": "python",
   "name": "python3"
  },
  "language_info": {
   "codemirror_mode": {
    "name": "ipython",
    "version": 3
   },
   "file_extension": ".py",
   "mimetype": "text/x-python",
   "name": "python",
   "nbconvert_exporter": "python",
   "pygments_lexer": "ipython3",
   "version": "3.6.0"
  }
 },
 "nbformat": 4,
 "nbformat_minor": 2
}
