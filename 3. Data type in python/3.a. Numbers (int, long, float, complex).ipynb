{
 "cells": [
  {
   "cell_type": "raw",
   "metadata": {},
   "source": [
    "#Please dont spend lots of time on these data structure. Go surfacely but don't ignore them.\n",
    "\n",
    "Number data type store numeric value.\n",
    "\n",
    "There are four types of number data types. They are:\n",
    "\n",
    "a. int        - Signed Integer\n",
    "b. long       - long integers, they can also be reperesented in octal and hexadecimal\n",
    "c. float      - floating point real values\n",
    "d. complex    - complex numbers"
   ]
  },
  {
   "cell_type": "code",
   "execution_count": 3,
   "metadata": {
    "collapsed": false
   },
   "outputs": [
    {
     "name": "stdout",
     "output_type": "stream",
     "text": [
      "sys.int_info(bits_per_digit=30, sizeof_digit=4)\n"
     ]
    }
   ],
   "source": [
    "#lets check value of int\n",
    "import sys\n",
    "a = sys.int_info\n",
    "print(a)"
   ]
  },
  {
   "cell_type": "raw",
   "metadata": {},
   "source": [
    " Long integers have unlimited precision."
   ]
  },
  {
   "cell_type": "raw",
   "metadata": {},
   "source": [
    "Floating point numbers are implemented using double in C. All bets on their precision are off unless you happen to know the machine you are working with."
   ]
  },
  {
   "cell_type": "raw",
   "metadata": {},
   "source": [
    "Complex numbers have a real and imaginary part, which are each implemented using double in C. To extract these parts from a complex number z, use z.real and z.imag.\n",
    "\n"
   ]
  },
  {
   "cell_type": "code",
   "execution_count": 7,
   "metadata": {
    "collapsed": false
   },
   "outputs": [
    {
     "data": {
      "text/plain": [
       "(-3+0j)"
      ]
     },
     "execution_count": 7,
     "metadata": {},
     "output_type": "execute_result"
    }
   ],
   "source": [
    "complex(3,6j)# 3 = re, 6j = img"
   ]
  },
  {
   "cell_type": "raw",
   "metadata": {},
   "source": [
    "Python fully supports mixed arithmetic: when a binary arithmetic operator has operands of different numeric types, the operand with the ``narrower'' type is widened to that of the other, where plain integer is narrower than long integer is narrower than floating point is narrower than complex. Comparisons between numbers of mixed type use the same rule"
   ]
  },
  {
   "cell_type": "raw",
   "metadata": {},
   "source": [
    "The constructors int(), long(), float(), and complex() can be used to produce numbers of a specific type."
   ]
  },
  {
   "cell_type": "raw",
   "metadata": {},
   "source": [
    "All numeric types (except complex) support the following operations, sorted by ascending priority (operations in the same box have the same priority; all numeric operations have a higher priority than comparison operations):\n",
    "    \n",
    "Operation\t    Result\t                          Notes\n",
    "    x + y\t    sum of x and y\t\n",
    "    x - y\t    difference of x and y\t\n",
    "    x * y\t    product of x and y\t\n",
    "    x / y\t    quotient of x and y\t               (1)\n",
    "    x // y\t    (floored) quotient of x and y\t   (5)\n",
    "    x % y\t    remainder of x / y\t               (4)\n",
    "        -x\t    x negated\t\n",
    "        +x\t    x unchanged\t\n",
    "    abs(x)\t    absolute value or magnitude of x\t\n",
    "    int(x)\t    x converted to integer\t            (2)\n",
    "    long(x)\t    x converted to long integer\t        (2)\n",
    "    float(x     x converted to floating point\t\n",
    "complex(re,im)\ta complex number with real part re, imaginary part im. im defaults to zero.\t\n",
    "c.conjugate()\tconjugate of the complex number c\t\n",
    "divmod(x, y)\tthe pair (x // y, x % y)\t        (3)(4)\n",
    "pow(x, y)\t    x to the power y\t\n",
    "    x ** y\t    x to the power y\t\n"
   ]
  }
 ],
 "metadata": {
  "kernelspec": {
   "display_name": "Python 3",
   "language": "python",
   "name": "python3"
  },
  "language_info": {
   "codemirror_mode": {
    "name": "ipython",
    "version": 3
   },
   "file_extension": ".py",
   "mimetype": "text/x-python",
   "name": "python",
   "nbconvert_exporter": "python",
   "pygments_lexer": "ipython3",
   "version": "3.6.0"
  }
 },
 "nbformat": 4,
 "nbformat_minor": 2
}
