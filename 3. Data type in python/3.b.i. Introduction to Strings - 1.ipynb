{
 "cells": [
  {
   "cell_type": "raw",
   "metadata": {},
   "source": [
    "In Python 3, all strings are sequences of Unicode characters. There is no such thing as a Python string encoded in utf-8, or a Python string encoded as CP-1252. “Is this string utf-8?” is an invalid question. utf-8 is a way of encoding characters as a sequence of bytes. If you want to take a string and turn it into a sequence of bytes in a particular character encoding, Python 3 can help you with that. If you want to take a sequence of bytes and turn it into a string, Python 3 can help you with that too. Bytes are not characters; bytes are bytes. Characters are an abstraction. A string is a sequence of those abstractions."
   ]
  },
  {
   "cell_type": "code",
   "execution_count": 2,
   "metadata": {
    "collapsed": false
   },
   "outputs": [
    {
     "name": "stdout",
     "output_type": "stream",
     "text": [
      "9\n",
      "深\n",
      "深入 Python3\n"
     ]
    }
   ],
   "source": [
    "s = '深入 Python'   #1\n",
    "print(len(s))      #2\n",
    "print(s[0])        #3\n",
    "print(s+'3')       #4"
   ]
  },
  {
   "cell_type": "raw",
   "metadata": {
    "raw_mimetype": "text/markdown"
   },
   "source": [
    "①\tTo create a string, enclose it in quotes. Python strings can be defined with either single quotes (') or double quotes (\").\n",
    "②\tThe built-in len() function returns the length of the string, i.e. the number of characters. This is the same function you use to find the length of a list, tuple, set, or dictionary. A string is like a tuple of characters.\n",
    "③\tJust like getting individual items out of a list, you can get individual characters out of a string using index notation.\n",
    "④\tJust like lists, you can concatenate strings using the + operator."
   ]
  },
  {
   "cell_type": "markdown",
   "metadata": {},
   "source": [
    "#Making Strings Upper and Lower Case\n",
    "The functions str.upper() and str.lower() will return a string with all the letters of an original string converted to upper- or lower-case letters. Because strings are immutable data types, the returned string will be a new string. Any characters in the string that are not letters will not be changed.\n"
   ]
  },
  {
   "cell_type": "code",
   "execution_count": 4,
   "metadata": {
    "collapsed": false
   },
   "outputs": [
    {
     "name": "stdout",
     "output_type": "stream",
     "text": [
      "HELLO THERE\n",
      "hello there\n"
     ]
    }
   ],
   "source": [
    "# Let’s convert the string Hello There to be all upper case and in lower case:\n",
    "\n",
    "s = 'Hello there'\n",
    "print(s.upper())\n",
    "print(s.lower())"
   ]
  },
  {
   "cell_type": "raw",
   "metadata": {},
   "source": [
    "#Boolean Methods\n",
    "Python has some string methods that will evaluate to a Boolean value. These methods are useful when we are creating forms for users to fill in, for example. If we are asking for a post code we will only want to accept a numeric string, but when we are asking for a name, we will only want to accept an alphabetic string.\n",
    "\n",
    "There are a number of string methods that will return Boolean values:\n",
    "\n",
    "    Method\t      True if\n",
    "str.isalnum()\tString consists of only alphanumeric characters (no symbols)\n",
    "str.isalpha()\tString consists of only alphabetic characters (no symbols)\n",
    "str.islower()\tString’s alphabetic characters are all lower case\n",
    "str.isnumeric()\tString consists of only numeric characters\n",
    "str.isspace()\tString consists of only whitespace characters\n",
    "str.istitle()\tString is in title case\n",
    "str.isupper()\tString’s alphabetic characters are all upper case\n"
   ]
  },
  {
   "cell_type": "code",
   "execution_count": 5,
   "metadata": {
    "collapsed": false
   },
   "outputs": [
    {
     "name": "stdout",
     "output_type": "stream",
     "text": [
      "True\n",
      "False\n"
     ]
    }
   ],
   "source": [
    "#Let’s look at a couple of these in action:\n",
    "number = \"5\"\n",
    "letters = \"abcdef\"\n",
    "\n",
    "print(number.isnumeric())\n",
    "print(letters.isnumeric())"
   ]
  },
  {
   "cell_type": "raw",
   "metadata": {},
   "source": [
    "#Determining String Length\n",
    "The string method len() returns the number of characters in a string. This method is useful for when you need to enforce minimum or maximum password lengths, for example, or to truncate larger strings to be within certain limits for use as abbreviations."
   ]
  },
  {
   "cell_type": "code",
   "execution_count": 7,
   "metadata": {
    "collapsed": false
   },
   "outputs": [
    {
     "name": "stdout",
     "output_type": "stream",
     "text": [
      "38\n"
     ]
    }
   ],
   "source": [
    "#To demonstrate this method, we’ll find the length of a sentence-long string:\n",
    "open_source = \"Developers contributes to open source.\"\n",
    "print(len(open_source))"
   ]
  },
  {
   "cell_type": "raw",
   "metadata": {},
   "source": [
    "#join(), split(), and replace() Methods\n",
    "\n",
    "The str.join(), str.split(), and str.replace() methods are a few additional ways to manipulate strings in Python.\n",
    "\n",
    "The str.join() method will concatenate two strings, but in a way that passes one string through another."
   ]
  },
  {
   "cell_type": "code",
   "execution_count": 10,
   "metadata": {
    "collapsed": false
   },
   "outputs": [
    {
     "name": "stdout",
     "output_type": "stream",
     "text": [
      "H e n r y   h a s   a   b a l l o o n .\n",
      ". n o o l l a b   a   s a h   y r n e H\n"
     ]
    }
   ],
   "source": [
    "#Let’s create a string:\n",
    "\n",
    "balloon = \"Henry has a balloon.\"\n",
    "#Now, let’s use the str.join() method to add whitespace to that string, which we can do like so:\n",
    "\n",
    "print(\" \".join(balloon))\n",
    "\n",
    "# We can also use the str.join() method to return a string that is a reversal from the original string:\n",
    "\n",
    "print(\" \".join(reversed(balloon)))"
   ]
  },
  {
   "cell_type": "code",
   "execution_count": 11,
   "metadata": {
    "collapsed": false
   },
   "outputs": [
    {
     "name": "stdout",
     "output_type": "stream",
     "text": [
      "sharks,crustaceans,plankton\n"
     ]
    }
   ],
   "source": [
    "# The str.join() method is also useful to combine a list of strings into a new single string.\n",
    "\n",
    "# Let’s create a comma-separated string from a list of strings:\n",
    "\n",
    "print(\",\".join([\"sharks\", \"crustaceans\", \"plankton\"]))"
   ]
  },
  {
   "cell_type": "code",
   "execution_count": 13,
   "metadata": {
    "collapsed": false
   },
   "outputs": [
    {
     "name": "stdout",
     "output_type": "stream",
     "text": [
      "['Henry', 'has', 'a', 'balloon.']\n",
      "['Henry h', 's ', ' b', 'lloon.']\n"
     ]
    }
   ],
   "source": [
    "# Just as we can join strings together, we can also split strings up. To do this, we will use the str.split() method:\n",
    "\n",
    "print(balloon.split())\n",
    "\n",
    "# We can also use str.split() to remove certain parts of an original string. For example, let’s remove the letter a from the string:\n",
    "\n",
    "print(balloon.split(\"a\"))"
   ]
  },
  {
   "cell_type": "code",
   "execution_count": 14,
   "metadata": {
    "collapsed": false
   },
   "outputs": [
    {
     "name": "stdout",
     "output_type": "stream",
     "text": [
      "Henry had a balloon.\n"
     ]
    }
   ],
   "source": [
    "# he str.replace() method can take an original string and return an updated string with some replacement.\n",
    "\n",
    "# Let’s say that the balloon that Sammy had is lost. Since Sammy no longer has this balloon, we will change the substring \"has\" from the original string balloon to \"had\" in a new string:\n",
    "\n",
    "print(balloon.replace(\"has\",\"had\"))"
   ]
  }
 ],
 "metadata": {
  "celltoolbar": "Raw Cell Format",
  "kernelspec": {
   "display_name": "Python 3",
   "language": "python",
   "name": "python3"
  },
  "language_info": {
   "codemirror_mode": {
    "name": "ipython",
    "version": 3
   },
   "file_extension": ".py",
   "mimetype": "text/x-python",
   "name": "python",
   "nbconvert_exporter": "python",
   "pygments_lexer": "ipython3",
   "version": "3.6.0"
  }
 },
 "nbformat": 4,
 "nbformat_minor": 2
}
