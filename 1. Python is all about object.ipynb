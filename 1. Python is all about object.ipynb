{
 "cells": [
  {
   "cell_type": "markdown",
   "metadata": {},
   "source": [
    "# ALways keep in mind that python is all about object"
   ]
  },
  {
   "cell_type": "markdown",
   "metadata": {},
   "source": [
    "Let me elaborate.\n",
    "\n",
    "Take following examples:"
   ]
  },
  {
   "cell_type": "code",
   "execution_count": 3,
   "metadata": {
    "collapsed": false
   },
   "outputs": [
    {
     "name": "stdout",
     "output_type": "stream",
     "text": [
      "Id of a:  1000 140544891120368\n",
      "Id of b:  1000 140544891120240\n",
      "Id of c:  1000 140544891120368\n"
     ]
    }
   ],
   "source": [
    "#use id() builtin function to understand the thame of above statement \n",
    "a = 1000\n",
    "b = 1000\n",
    "c = a\n",
    "print('Id of a: ', a, id(a))\n",
    "print('Id of b: ', b, id(b))\n",
    "print('Id of c: ', c, id(c))\n"
   ]
  },
  {
   "cell_type": "markdown",
   "metadata": {},
   "source": [
    "Note carefully to the above three print() statements.\n",
    "\n",
    "All the variables hold the same value but id value is not same.\n",
    "\n",
    "The id value of variable a and c is same here. But we can see that variable b has different id value.\n",
    "\n",
    "On other hand watch the same looking example below:"
   ]
  },
  {
   "cell_type": "code",
   "execution_count": 4,
   "metadata": {
    "collapsed": false
   },
   "outputs": [
    {
     "name": "stdout",
     "output_type": "stream",
     "text": [
      "Id of a:  10 140545086110240\n",
      "Id of b:  10 140545086110240\n",
      "Id of c:  10 140545086110240\n"
     ]
    }
   ],
   "source": [
    "a = 10\n",
    "b = 10\n",
    "c = a\n",
    "print('Id of a: ', a, id(a))\n",
    "print('Id of b: ', b, id(b))\n",
    "print('Id of c: ', c, id(c))\n"
   ]
  },
  {
   "cell_type": "raw",
   "metadata": {},
   "source": [
    "Oh! whats going wrong there????\n",
    "\n",
    "Stop blaming to your interpreter. It is doing well.\n",
    "\n",
    "What you should know is that it is happening because of Optimization technique implemented by Python interpreter.\n",
    "\n",
    "Thats it !!!"
   ]
  }
 ],
 "metadata": {
  "kernelspec": {
   "display_name": "Python 3",
   "language": "python",
   "name": "python3"
  },
  "language_info": {
   "codemirror_mode": {
    "name": "ipython",
    "version": 3
   },
   "file_extension": ".py",
   "mimetype": "text/x-python",
   "name": "python",
   "nbconvert_exporter": "python",
   "pygments_lexer": "ipython3",
   "version": "3.6.0"
  }
 },
 "nbformat": 4,
 "nbformat_minor": 2
}
