{
 "cells": [
  {
   "cell_type": "raw",
   "metadata": {},
   "source": [
    "The Term variable is nothing but is reserved memory locations to store values. \n",
    "\n",
    "From the above statement it is clear that when you create a varialble you reserve some space in memory.\n"
   ]
  },
  {
   "cell_type": "raw",
   "metadata": {},
   "source": [
    "# How to assign values to variables\n",
    "\n",
    "Its preety simple to assign value to a variable\n",
    "\n",
    "What you should do is that use equal (=) sign to assign a value to a variable\n",
    "\n",
    "e.g : value = 100 # An integer assignments\n",
    "      velocity = 2.3 # A floating point\n",
    "      name = 'David' # A String\n",
    "      "
   ]
  },
  {
   "cell_type": "markdown",
   "metadata": {},
   "source": [
    "# multiple assignment\n",
    "\n",
    "There are two ways of assigning variables:\n",
    "\n",
    "1. a = b = c = 1\n",
    "here all variable is assigned with value 1\n",
    "\n",
    "2. a, b, c = 2, 'My name', 'KTM'\n",
    "\n",
    "here a = 2, b = 'My name', c = 'KTM'\n"
   ]
  },
  {
   "cell_type": "markdown",
   "metadata": {},
   "source": [
    "# Naming Variables: Rules and Style\n",
    "\n",
    "The naming of variables is quite flexible, but there are some rules you need to keep in mind:\n",
    "\n",
    "> Variable names must only be one word (as in no spaces)\n",
    "> Variable names must be made up of only letters, numbers, and underscore (_)\n",
    "> Variable names cannot begin with a number\n",
    "\n",
    "Following the rules above, let’s look at both valid and invalid variable names:\n",
    "\n",
    "    Valid\t    Invalid\t    Why Invalid\n",
    "    my_int\t    my-int\t    Hyphens are not permitted\n",
    "    int4\t    4int\t    Cannot begin with a number\n",
    "    MY_INT\t    $MY_INT\t    Cannot use symbols other than _\n",
    "another_int\t    another int\tCannot be more than one word"
   ]
  },
  {
   "cell_type": "code",
   "execution_count": null,
   "metadata": {
    "collapsed": true
   },
   "outputs": [],
   "source": [
    "\n",
    "#Create a global variable, outside of a function\n",
    "glb_var = \"global\"\n",
    "\n",
    "#Define a function\n",
    "def var_function():\n",
    "    lcl_var = \"local\" #Create a local variable, inside function\n",
    "    print(lcl_var)\n",
    "\n",
    "#Call function to print local variable\n",
    "var_function()\n",
    "\n",
    "#Print global variable outside function\n",
    "print(glb_var)"
   ]
  }
 ],
 "metadata": {
  "kernelspec": {
   "display_name": "Python 3",
   "language": "python",
   "name": "python3"
  },
  "language_info": {
   "codemirror_mode": {
    "name": "ipython",
    "version": 3
   },
   "file_extension": ".py",
   "mimetype": "text/x-python",
   "name": "python",
   "nbconvert_exporter": "python",
   "pygments_lexer": "ipython3",
   "version": "3.6.0"
  }
 },
 "nbformat": 4,
 "nbformat_minor": 2
}
